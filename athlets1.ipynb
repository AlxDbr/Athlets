{
 "cells": [
  {
   "cell_type": "code",
   "execution_count": 49,
   "id": "eedcdda0",
   "metadata": {},
   "outputs": [],
   "source": [
    "import numpy as np\n",
    "import pandas as pd\n",
    "import matplotlib.pyplot as plt\n",
    "import seaborn as sns\n",
    "import os\n",
    "import glob"
   ]
  },
  {
   "cell_type": "code",
   "execution_count": 50,
   "id": "80a564cd",
   "metadata": {},
   "outputs": [
    {
     "data": {
      "text/plain": [
       "'C:\\\\Users\\\\u515192\\\\.spyder-py3'"
      ]
     },
     "execution_count": 50,
     "metadata": {},
     "output_type": "execute_result"
    }
   ],
   "source": [
    "os.getcwd()"
   ]
  },
  {
   "cell_type": "code",
   "execution_count": 51,
   "id": "1d500840",
   "metadata": {},
   "outputs": [],
   "source": [
    "os.chdir(\"C:/Users/u515192/.spyder-py3\")"
   ]
  },
  {
   "cell_type": "code",
   "execution_count": 52,
   "id": "4cb093f1",
   "metadata": {},
   "outputs": [
    {
     "data": {
      "text/plain": [
       "'C:\\\\Users\\\\u515192\\\\.spyder-py3'"
      ]
     },
     "execution_count": 52,
     "metadata": {},
     "output_type": "execute_result"
    }
   ],
   "source": [
    "os.getcwd()"
   ]
  },
  {
   "cell_type": "code",
   "execution_count": 53,
   "id": "0453ed46",
   "metadata": {},
   "outputs": [
    {
     "data": {
      "text/plain": [
       "['athlets.csv',\n",
       " 'autosave',\n",
       " 'BTC-EUR.csv',\n",
       " 'BTC-EUR1.csv',\n",
       " 'built_in_function.py',\n",
       " 'carres.txt',\n",
       " 'config',\n",
       " 'dataset_covid.xlsx',\n",
       " 'dictionnaires.py',\n",
       " 'echantillon.xlsx',\n",
       " 'ETH-EUR.csv',\n",
       " 'fct1.py',\n",
       " 'fonctions.png',\n",
       " 'hello.py',\n",
       " 'help',\n",
       " 'history.py',\n",
       " 'history_internal.py',\n",
       " 'langconfig',\n",
       " 'listes_and_tuples.py',\n",
       " 'list_comprehension.py',\n",
       " 'lsp_paths',\n",
       " 'matplotlib_basics.py',\n",
       " 'modules_and_packages.py',\n",
       " 'my_first_text.txt',\n",
       " 'nuages_smogo.png',\n",
       " 'numpy_basics.py',\n",
       " 'numpy_slicing_indexing.py',\n",
       " 'numpy_stats_and_mats.py',\n",
       " 'onlinehelp',\n",
       " 'panda_basics.py',\n",
       " 'panda_time_series_1.py',\n",
       " 'panda_time_series_2.py',\n",
       " 'pdb_history.sqlite',\n",
       " 'plugins',\n",
       " 'regression_lineaire.py',\n",
       " 'scipy_image_processing.py',\n",
       " 'scipy_interpolation.py',\n",
       " 'scipy_optimize_curvefit.py',\n",
       " 'scipy_optimize_minimize.py',\n",
       " 'sklearn_basics.py',\n",
       " 'sklearn_ensembles.py',\n",
       " 'sklearn_feature_selection.py',\n",
       " 'sklearn_isolation_forest.py',\n",
       " 'sklearn_kmeans_clustering.py',\n",
       " 'sklearn_model_selection.py',\n",
       " 'sklearn_pca.py',\n",
       " 'sklearn_pre_processing.py',\n",
       " 'smogo.png',\n",
       " 'spyder.lock',\n",
       " 'structures_de_controle.py',\n",
       " 'temp.py',\n",
       " 'template.py',\n",
       " 'testclose.txt',\n",
       " 'titanic.xlsx',\n",
       " 'var_and_functions.py',\n",
       " 'workingdir',\n",
       " '__pycache__']"
      ]
     },
     "execution_count": 53,
     "metadata": {},
     "output_type": "execute_result"
    }
   ],
   "source": [
    "glob.glob('*')"
   ]
  },
  {
   "cell_type": "code",
   "execution_count": 54,
   "id": "0e3238d8",
   "metadata": {},
   "outputs": [
    {
     "data": {
      "text/html": [
       "<div>\n",
       "<style scoped>\n",
       "    .dataframe tbody tr th:only-of-type {\n",
       "        vertical-align: middle;\n",
       "    }\n",
       "\n",
       "    .dataframe tbody tr th {\n",
       "        vertical-align: top;\n",
       "    }\n",
       "\n",
       "    .dataframe thead th {\n",
       "        text-align: right;\n",
       "    }\n",
       "</style>\n",
       "<table border=\"1\" class=\"dataframe\">\n",
       "  <thead>\n",
       "    <tr style=\"text-align: right;\">\n",
       "      <th></th>\n",
       "      <th>datetime</th>\n",
       "      <th>athlete</th>\n",
       "      <th>distance</th>\n",
       "      <th>duration</th>\n",
       "      <th>gender</th>\n",
       "      <th>age_group</th>\n",
       "      <th>country</th>\n",
       "      <th>month</th>\n",
       "      <th>year</th>\n",
       "      <th>distance_2019</th>\n",
       "      <th>distance_2020</th>\n",
       "    </tr>\n",
       "  </thead>\n",
       "  <tbody>\n",
       "    <tr>\n",
       "      <th>0</th>\n",
       "      <td>2019-01-01 00:00:00</td>\n",
       "      <td>0</td>\n",
       "      <td>0.0</td>\n",
       "      <td>0.0</td>\n",
       "      <td>F</td>\n",
       "      <td>18 - 34</td>\n",
       "      <td>United States</td>\n",
       "      <td>January</td>\n",
       "      <td>2019</td>\n",
       "      <td>0.0</td>\n",
       "      <td>NaN</td>\n",
       "    </tr>\n",
       "    <tr>\n",
       "      <th>1</th>\n",
       "      <td>2019-01-08 00:00:00</td>\n",
       "      <td>0</td>\n",
       "      <td>0.0</td>\n",
       "      <td>0.0</td>\n",
       "      <td>F</td>\n",
       "      <td>18 - 34</td>\n",
       "      <td>United States</td>\n",
       "      <td>January</td>\n",
       "      <td>2019</td>\n",
       "      <td>0.0</td>\n",
       "      <td>NaN</td>\n",
       "    </tr>\n",
       "    <tr>\n",
       "      <th>2</th>\n",
       "      <td>2019-01-15 00:00:00</td>\n",
       "      <td>0</td>\n",
       "      <td>0.0</td>\n",
       "      <td>0.0</td>\n",
       "      <td>F</td>\n",
       "      <td>18 - 34</td>\n",
       "      <td>United States</td>\n",
       "      <td>January</td>\n",
       "      <td>2019</td>\n",
       "      <td>0.0</td>\n",
       "      <td>NaN</td>\n",
       "    </tr>\n",
       "    <tr>\n",
       "      <th>3</th>\n",
       "      <td>2019-01-22 00:00:00</td>\n",
       "      <td>0</td>\n",
       "      <td>0.0</td>\n",
       "      <td>0.0</td>\n",
       "      <td>F</td>\n",
       "      <td>18 - 34</td>\n",
       "      <td>United States</td>\n",
       "      <td>January</td>\n",
       "      <td>2019</td>\n",
       "      <td>0.0</td>\n",
       "      <td>NaN</td>\n",
       "    </tr>\n",
       "    <tr>\n",
       "      <th>4</th>\n",
       "      <td>2019-01-29 00:00:00</td>\n",
       "      <td>0</td>\n",
       "      <td>0.0</td>\n",
       "      <td>0.0</td>\n",
       "      <td>F</td>\n",
       "      <td>18 - 34</td>\n",
       "      <td>United States</td>\n",
       "      <td>January</td>\n",
       "      <td>2019</td>\n",
       "      <td>0.0</td>\n",
       "      <td>NaN</td>\n",
       "    </tr>\n",
       "  </tbody>\n",
       "</table>\n",
       "</div>"
      ],
      "text/plain": [
       "              datetime  athlete  distance  duration gender age_group  \\\n",
       "0  2019-01-01 00:00:00        0       0.0       0.0      F   18 - 34   \n",
       "1  2019-01-08 00:00:00        0       0.0       0.0      F   18 - 34   \n",
       "2  2019-01-15 00:00:00        0       0.0       0.0      F   18 - 34   \n",
       "3  2019-01-22 00:00:00        0       0.0       0.0      F   18 - 34   \n",
       "4  2019-01-29 00:00:00        0       0.0       0.0      F   18 - 34   \n",
       "\n",
       "         country    month  year  distance_2019  distance_2020  \n",
       "0  United States  January  2019            0.0            NaN  \n",
       "1  United States  January  2019            0.0            NaN  \n",
       "2  United States  January  2019            0.0            NaN  \n",
       "3  United States  January  2019            0.0            NaN  \n",
       "4  United States  January  2019            0.0            NaN  "
      ]
     },
     "execution_count": 54,
     "metadata": {},
     "output_type": "execute_result"
    }
   ],
   "source": [
    "data = pd.read_csv(\"athlets.csv\")\n",
    "data.head()"
   ]
  },
  {
   "cell_type": "code",
   "execution_count": 55,
   "id": "cbe85739",
   "metadata": {},
   "outputs": [],
   "source": [
    "# 1. DATA EXPLORATION PHASE"
   ]
  },
  {
   "cell_type": "code",
   "execution_count": 56,
   "id": "9640aa7b",
   "metadata": {},
   "outputs": [],
   "source": [
    "df = data.copy()"
   ]
  },
  {
   "cell_type": "code",
   "execution_count": 57,
   "id": "e644a641",
   "metadata": {},
   "outputs": [
    {
     "data": {
      "text/plain": [
       "(29999, 11)"
      ]
     },
     "execution_count": 57,
     "metadata": {},
     "output_type": "execute_result"
    }
   ],
   "source": [
    "df.shape"
   ]
  },
  {
   "cell_type": "code",
   "execution_count": 58,
   "id": "d2585fcd",
   "metadata": {},
   "outputs": [
    {
     "data": {
      "text/html": [
       "<div>\n",
       "<style scoped>\n",
       "    .dataframe tbody tr th:only-of-type {\n",
       "        vertical-align: middle;\n",
       "    }\n",
       "\n",
       "    .dataframe tbody tr th {\n",
       "        vertical-align: top;\n",
       "    }\n",
       "\n",
       "    .dataframe thead th {\n",
       "        text-align: right;\n",
       "    }\n",
       "</style>\n",
       "<table border=\"1\" class=\"dataframe\">\n",
       "  <thead>\n",
       "    <tr style=\"text-align: right;\">\n",
       "      <th></th>\n",
       "      <th>athlete</th>\n",
       "      <th>distance</th>\n",
       "      <th>duration</th>\n",
       "      <th>gender</th>\n",
       "      <th>age_group</th>\n",
       "      <th>country</th>\n",
       "      <th>month</th>\n",
       "    </tr>\n",
       "  </thead>\n",
       "  <tbody>\n",
       "    <tr>\n",
       "      <th>21</th>\n",
       "      <td>0</td>\n",
       "      <td>4.63</td>\n",
       "      <td>28.083333</td>\n",
       "      <td>F</td>\n",
       "      <td>18 - 34</td>\n",
       "      <td>United States</td>\n",
       "      <td>May</td>\n",
       "    </tr>\n",
       "    <tr>\n",
       "      <th>22</th>\n",
       "      <td>0</td>\n",
       "      <td>4.83</td>\n",
       "      <td>35.350000</td>\n",
       "      <td>F</td>\n",
       "      <td>18 - 34</td>\n",
       "      <td>United States</td>\n",
       "      <td>June</td>\n",
       "    </tr>\n",
       "    <tr>\n",
       "      <th>23</th>\n",
       "      <td>0</td>\n",
       "      <td>10.19</td>\n",
       "      <td>61.933333</td>\n",
       "      <td>F</td>\n",
       "      <td>18 - 34</td>\n",
       "      <td>United States</td>\n",
       "      <td>June</td>\n",
       "    </tr>\n",
       "    <tr>\n",
       "      <th>24</th>\n",
       "      <td>0</td>\n",
       "      <td>29.32</td>\n",
       "      <td>178.983333</td>\n",
       "      <td>F</td>\n",
       "      <td>18 - 34</td>\n",
       "      <td>United States</td>\n",
       "      <td>June</td>\n",
       "    </tr>\n",
       "    <tr>\n",
       "      <th>25</th>\n",
       "      <td>0</td>\n",
       "      <td>20.16</td>\n",
       "      <td>128.750000</td>\n",
       "      <td>F</td>\n",
       "      <td>18 - 34</td>\n",
       "      <td>United States</td>\n",
       "      <td>June</td>\n",
       "    </tr>\n",
       "  </tbody>\n",
       "</table>\n",
       "</div>"
      ],
      "text/plain": [
       "    athlete  distance    duration gender age_group        country month\n",
       "21        0      4.63   28.083333      F   18 - 34  United States   May\n",
       "22        0      4.83   35.350000      F   18 - 34  United States  June\n",
       "23        0     10.19   61.933333      F   18 - 34  United States  June\n",
       "24        0     29.32  178.983333      F   18 - 34  United States  June\n",
       "25        0     20.16  128.750000      F   18 - 34  United States  June"
      ]
     },
     "execution_count": 58,
     "metadata": {},
     "output_type": "execute_result"
    }
   ],
   "source": [
    "df = df.drop(df[df['duration']==0].index, axis=0)\n",
    "df = df.drop(['datetime', 'year', 'distance_2019', 'distance_2020'], axis=1)\n",
    "df.head()"
   ]
  },
  {
   "cell_type": "code",
   "execution_count": 59,
   "id": "2f45c13d",
   "metadata": {},
   "outputs": [
    {
     "data": {
      "text/plain": [
       "athlete        int64\n",
       "distance     float64\n",
       "duration     float64\n",
       "gender        object\n",
       "age_group     object\n",
       "country       object\n",
       "month         object\n",
       "dtype: object"
      ]
     },
     "execution_count": 59,
     "metadata": {},
     "output_type": "execute_result"
    }
   ],
   "source": [
    "df.dtypes"
   ]
  },
  {
   "cell_type": "code",
   "execution_count": 60,
   "id": "a086a928",
   "metadata": {},
   "outputs": [
    {
     "data": {
      "text/plain": [
       "athlete       0\n",
       "distance      0\n",
       "duration      0\n",
       "gender        0\n",
       "age_group     0\n",
       "country      69\n",
       "month         0\n",
       "dtype: int64"
      ]
     },
     "execution_count": 60,
     "metadata": {},
     "output_type": "execute_result"
    }
   ],
   "source": [
    "df.isna().sum()"
   ]
  },
  {
   "cell_type": "code",
   "execution_count": 61,
   "id": "cc981565",
   "metadata": {},
   "outputs": [
    {
     "data": {
      "text/plain": [
       "country\n",
       "Australia           4\n",
       "Austria             1\n",
       "Belarus             1\n",
       "Belgium             3\n",
       "Brazil              7\n",
       "Canada              5\n",
       "Cayman Islands      1\n",
       "Chile               1\n",
       "China               1\n",
       "Colombia            2\n",
       "Costa Rica          2\n",
       "Denmark             2\n",
       "Estonia             1\n",
       "France              9\n",
       "Germany            14\n",
       "Iceland             1\n",
       "Indonesia           3\n",
       "Isle of Man         1\n",
       "Italy               6\n",
       "Japan               4\n",
       "Luxembourg          1\n",
       "Malaysia            1\n",
       "Mexico              1\n",
       "Norway              6\n",
       "Peru                1\n",
       "Poland              1\n",
       "Portugal            1\n",
       "Romania             2\n",
       "Russia              5\n",
       "Singapore           3\n",
       "Slovenia            1\n",
       "South Africa        1\n",
       "Spain               6\n",
       "Sweden              3\n",
       "Switzerland         5\n",
       "Taiwan              3\n",
       "Thailand            1\n",
       "The Netherlands    16\n",
       "United Kingdom     62\n",
       "United States      99\n",
       "Name: athlete, dtype: int64"
      ]
     },
     "execution_count": 61,
     "metadata": {},
     "output_type": "execute_result"
    }
   ],
   "source": [
    "number_athletes_per_country = df.groupby(by='country').nunique()\n",
    "number_athletes_per_country['athlete']"
   ]
  },
  {
   "cell_type": "code",
   "execution_count": 62,
   "id": "a19e8f27",
   "metadata": {},
   "outputs": [
    {
     "data": {
      "text/html": [
       "<div>\n",
       "<style scoped>\n",
       "    .dataframe tbody tr th:only-of-type {\n",
       "        vertical-align: middle;\n",
       "    }\n",
       "\n",
       "    .dataframe tbody tr th {\n",
       "        vertical-align: top;\n",
       "    }\n",
       "\n",
       "    .dataframe thead th {\n",
       "        text-align: right;\n",
       "    }\n",
       "</style>\n",
       "<table border=\"1\" class=\"dataframe\">\n",
       "  <thead>\n",
       "    <tr style=\"text-align: right;\">\n",
       "      <th></th>\n",
       "      <th>athlete</th>\n",
       "      <th>distance</th>\n",
       "      <th>duration</th>\n",
       "      <th>gender</th>\n",
       "      <th>age_group</th>\n",
       "      <th>month</th>\n",
       "    </tr>\n",
       "  </thead>\n",
       "  <tbody>\n",
       "    <tr>\n",
       "      <th>21</th>\n",
       "      <td>0</td>\n",
       "      <td>4.63</td>\n",
       "      <td>28.083333</td>\n",
       "      <td>F</td>\n",
       "      <td>18 - 34</td>\n",
       "      <td>May</td>\n",
       "    </tr>\n",
       "    <tr>\n",
       "      <th>22</th>\n",
       "      <td>0</td>\n",
       "      <td>4.83</td>\n",
       "      <td>35.350000</td>\n",
       "      <td>F</td>\n",
       "      <td>18 - 34</td>\n",
       "      <td>June</td>\n",
       "    </tr>\n",
       "    <tr>\n",
       "      <th>23</th>\n",
       "      <td>0</td>\n",
       "      <td>10.19</td>\n",
       "      <td>61.933333</td>\n",
       "      <td>F</td>\n",
       "      <td>18 - 34</td>\n",
       "      <td>June</td>\n",
       "    </tr>\n",
       "    <tr>\n",
       "      <th>24</th>\n",
       "      <td>0</td>\n",
       "      <td>29.32</td>\n",
       "      <td>178.983333</td>\n",
       "      <td>F</td>\n",
       "      <td>18 - 34</td>\n",
       "      <td>June</td>\n",
       "    </tr>\n",
       "    <tr>\n",
       "      <th>25</th>\n",
       "      <td>0</td>\n",
       "      <td>20.16</td>\n",
       "      <td>128.750000</td>\n",
       "      <td>F</td>\n",
       "      <td>18 - 34</td>\n",
       "      <td>June</td>\n",
       "    </tr>\n",
       "  </tbody>\n",
       "</table>\n",
       "</div>"
      ],
      "text/plain": [
       "    athlete  distance    duration gender age_group month\n",
       "21        0      4.63   28.083333      F   18 - 34   May\n",
       "22        0      4.83   35.350000      F   18 - 34  June\n",
       "23        0     10.19   61.933333      F   18 - 34  June\n",
       "24        0     29.32  178.983333      F   18 - 34  June\n",
       "25        0     20.16  128.750000      F   18 - 34  June"
      ]
     },
     "execution_count": 62,
     "metadata": {},
     "output_type": "execute_result"
    }
   ],
   "source": [
    "df = df.drop(['country'], axis=1)\n",
    "df.head()"
   ]
  },
  {
   "cell_type": "code",
   "execution_count": 63,
   "id": "4d161dce",
   "metadata": {},
   "outputs": [
    {
     "data": {
      "text/html": [
       "<div>\n",
       "<style scoped>\n",
       "    .dataframe tbody tr th:only-of-type {\n",
       "        vertical-align: middle;\n",
       "    }\n",
       "\n",
       "    .dataframe tbody tr th {\n",
       "        vertical-align: top;\n",
       "    }\n",
       "\n",
       "    .dataframe thead th {\n",
       "        text-align: right;\n",
       "    }\n",
       "</style>\n",
       "<table border=\"1\" class=\"dataframe\">\n",
       "  <thead>\n",
       "    <tr style=\"text-align: right;\">\n",
       "      <th></th>\n",
       "      <th>athlete</th>\n",
       "      <th>distance</th>\n",
       "      <th>duration</th>\n",
       "      <th>gender</th>\n",
       "      <th>age_group</th>\n",
       "      <th>month</th>\n",
       "      <th>speed (km/h)</th>\n",
       "    </tr>\n",
       "  </thead>\n",
       "  <tbody>\n",
       "    <tr>\n",
       "      <th>21</th>\n",
       "      <td>0</td>\n",
       "      <td>4.63</td>\n",
       "      <td>28.083333</td>\n",
       "      <td>F</td>\n",
       "      <td>18 - 34</td>\n",
       "      <td>May</td>\n",
       "      <td>9.891988</td>\n",
       "    </tr>\n",
       "    <tr>\n",
       "      <th>22</th>\n",
       "      <td>0</td>\n",
       "      <td>4.83</td>\n",
       "      <td>35.350000</td>\n",
       "      <td>F</td>\n",
       "      <td>18 - 34</td>\n",
       "      <td>June</td>\n",
       "      <td>8.198020</td>\n",
       "    </tr>\n",
       "    <tr>\n",
       "      <th>23</th>\n",
       "      <td>0</td>\n",
       "      <td>10.19</td>\n",
       "      <td>61.933333</td>\n",
       "      <td>F</td>\n",
       "      <td>18 - 34</td>\n",
       "      <td>June</td>\n",
       "      <td>9.871905</td>\n",
       "    </tr>\n",
       "    <tr>\n",
       "      <th>24</th>\n",
       "      <td>0</td>\n",
       "      <td>29.32</td>\n",
       "      <td>178.983333</td>\n",
       "      <td>F</td>\n",
       "      <td>18 - 34</td>\n",
       "      <td>June</td>\n",
       "      <td>9.828848</td>\n",
       "    </tr>\n",
       "    <tr>\n",
       "      <th>25</th>\n",
       "      <td>0</td>\n",
       "      <td>20.16</td>\n",
       "      <td>128.750000</td>\n",
       "      <td>F</td>\n",
       "      <td>18 - 34</td>\n",
       "      <td>June</td>\n",
       "      <td>9.394951</td>\n",
       "    </tr>\n",
       "  </tbody>\n",
       "</table>\n",
       "</div>"
      ],
      "text/plain": [
       "    athlete  distance    duration gender age_group month  speed (km/h)\n",
       "21        0      4.63   28.083333      F   18 - 34   May      9.891988\n",
       "22        0      4.83   35.350000      F   18 - 34  June      8.198020\n",
       "23        0     10.19   61.933333      F   18 - 34  June      9.871905\n",
       "24        0     29.32  178.983333      F   18 - 34  June      9.828848\n",
       "25        0     20.16  128.750000      F   18 - 34  June      9.394951"
      ]
     },
     "execution_count": 63,
     "metadata": {},
     "output_type": "execute_result"
    }
   ],
   "source": [
    "df['speed (km/h)']=df['distance']*60/df['duration']\n",
    "df.head()"
   ]
  },
  {
   "cell_type": "code",
   "execution_count": 64,
   "id": "567eb2fc",
   "metadata": {},
   "outputs": [
    {
     "name": "stderr",
     "output_type": "stream",
     "text": [
      "C:\\Users\\u515192\\Anaconda3\\lib\\site-packages\\seaborn\\distributions.py:2619: FutureWarning: `distplot` is a deprecated function and will be removed in a future version. Please adapt your code to use either `displot` (a figure-level function with similar flexibility) or `histplot` (an axes-level function for histograms).\n",
      "  warnings.warn(msg, FutureWarning)\n",
      "C:\\Users\\u515192\\Anaconda3\\lib\\site-packages\\seaborn\\distributions.py:2619: FutureWarning: `distplot` is a deprecated function and will be removed in a future version. Please adapt your code to use either `displot` (a figure-level function with similar flexibility) or `histplot` (an axes-level function for histograms).\n",
      "  warnings.warn(msg, FutureWarning)\n",
      "C:\\Users\\u515192\\Anaconda3\\lib\\site-packages\\seaborn\\distributions.py:2619: FutureWarning: `distplot` is a deprecated function and will be removed in a future version. Please adapt your code to use either `displot` (a figure-level function with similar flexibility) or `histplot` (an axes-level function for histograms).\n",
      "  warnings.warn(msg, FutureWarning)\n"
     ]
    },
    {
     "data": {
      "image/png": "[encoded data removed]",
      "text/plain": [
       "<Figure size 432x288 with 1 Axes>"
      ]
     },
     "metadata": {
      "needs_background": "light"
     },
     "output_type": "display_data"
    },
    {
     "data": {
      "image/png": "[encoded data removed]",
      "text/plain": [
       "<Figure size 432x288 with 1 Axes>"
      ]
     },
     "metadata": {
      "needs_background": "light"
     },
     "output_type": "display_data"
    },
    {
     "data": {
      "image/png": "[encoded data removed]",
      "text/plain": [
       "<Figure size 432x288 with 1 Axes>"
      ]
     },
     "metadata": {
      "needs_background": "light"
     },
     "output_type": "display_data"
    }
   ],
   "source": [
    "for col in df.select_dtypes('float'):\n",
    "    plt.figure()\n",
    "    sns.distplot(df[col])"
   ]
  },
  {
   "cell_type": "code",
   "execution_count": 65,
   "id": "7d5e5eb8",
   "metadata": {},
   "outputs": [
    {
     "name": "stdout",
     "output_type": "stream",
     "text": [
      "Of the 22508 distances covered, 21815 were done by running; we will keep these ones\n"
     ]
    }
   ],
   "source": [
    "a = df.shape[0]\n",
    "df = df.drop(df[df['speed (km/h)']<=7].index, axis=0)\n",
    "b = df.shape[0]\n",
    "print('Of the {} distances covered, {} were done by running; we will keep these ones'.format(a,b))"
   ]
  },
  {
   "cell_type": "code",
   "execution_count": 66,
   "id": "7323b3c4",
   "metadata": {},
   "outputs": [
    {
     "name": "stdout",
     "output_type": "stream",
     "text": [
      "gender-------------- ['F' 'M']\n",
      "age_group----------- ['18 - 34' '35 - 54' '55 +']\n",
      "month--------------- ['May' 'June' 'July' 'August' 'September' 'October' 'February' 'March'\n",
      " 'April' 'November' 'December' 'January']\n"
     ]
    }
   ],
   "source": [
    "for col in df.select_dtypes('object'):\n",
    "    print(f'{col:-<20} {df[col].unique()}')"
   ]
  },
  {
   "cell_type": "code",
   "execution_count": 67,
   "id": "c9b5281f",
   "metadata": {},
   "outputs": [
    {
     "data": {
      "text/plain": [
       "April        2174\n",
       "January      2174\n",
       "July         2053\n",
       "September    1879\n",
       "October      1830\n",
       "May          1750\n",
       "February     1746\n",
       "June         1741\n",
       "March        1719\n",
       "August       1653\n",
       "November     1562\n",
       "December     1534\n",
       "Name: month, dtype: int64"
      ]
     },
     "execution_count": 67,
     "metadata": {},
     "output_type": "execute_result"
    },
    {
     "data": {
      "image/png": "[encoded data removed]",
      "text/plain": [
       "<Figure size 432x288 with 2 Axes>"
      ]
     },
     "metadata": {},
     "output_type": "display_data"
    }
   ],
   "source": [
    "plt.figure()\n",
    "plt.subplot(1,2,1)\n",
    "df['gender'].value_counts().plot.pie()\n",
    "plt.subplot(1,2,2)\n",
    "df['age_group'].value_counts().plot.pie()\n",
    "df['month'].value_counts()"
   ]
  },
  {
   "cell_type": "code",
   "execution_count": 68,
   "id": "c32d5aa0",
   "metadata": {},
   "outputs": [
    {
     "data": {
      "text/plain": [
       "gender  age_group\n",
       "F       18 - 34       18\n",
       "        35 - 54       29\n",
       "        55 +           3\n",
       "M       18 - 34       62\n",
       "        35 - 54      154\n",
       "        55 +          22\n",
       "Name: athlete, dtype: int64"
      ]
     },
     "execution_count": 68,
     "metadata": {},
     "output_type": "execute_result"
    }
   ],
   "source": [
    "number_athletes_per_gender_and_age = df.groupby(['gender','age_group']).nunique()\n",
    "number_athletes_per_gender_and_age['athlete']\n",
    "# Among the athletes in the dataset, there are only 3 women aged 55 or over, this risks distorting the estimation of their\n",
    "# true level because they are not compared to enough athletes in their category. The model will perform better if they are \n",
    "# put in the same subcategory as women aged 35-54"
   ]
  },
  {
   "cell_type": "code",
   "execution_count": 69,
   "id": "687cd4cc",
   "metadata": {},
   "outputs": [
    {
     "name": "stderr",
     "output_type": "stream",
     "text": [
      "C:\\Users\\u515192\\Anaconda3\\lib\\site-packages\\seaborn\\distributions.py:2619: FutureWarning: `distplot` is a deprecated function and will be removed in a future version. Please adapt your code to use either `displot` (a figure-level function with similar flexibility) or `histplot` (an axes-level function for histograms).\n",
      "  warnings.warn(msg, FutureWarning)\n",
      "C:\\Users\\u515192\\Anaconda3\\lib\\site-packages\\seaborn\\distributions.py:2619: FutureWarning: `distplot` is a deprecated function and will be removed in a future version. Please adapt your code to use either `displot` (a figure-level function with similar flexibility) or `histplot` (an axes-level function for histograms).\n",
      "  warnings.warn(msg, FutureWarning)\n",
      "C:\\Users\\u515192\\Anaconda3\\lib\\site-packages\\seaborn\\distributions.py:2619: FutureWarning: `distplot` is a deprecated function and will be removed in a future version. Please adapt your code to use either `displot` (a figure-level function with similar flexibility) or `histplot` (an axes-level function for histograms).\n",
      "  warnings.warn(msg, FutureWarning)\n",
      "C:\\Users\\u515192\\Anaconda3\\lib\\site-packages\\seaborn\\distributions.py:2619: FutureWarning: `distplot` is a deprecated function and will be removed in a future version. Please adapt your code to use either `displot` (a figure-level function with similar flexibility) or `histplot` (an axes-level function for histograms).\n",
      "  warnings.warn(msg, FutureWarning)\n",
      "C:\\Users\\u515192\\Anaconda3\\lib\\site-packages\\seaborn\\distributions.py:2619: FutureWarning: `distplot` is a deprecated function and will be removed in a future version. Please adapt your code to use either `displot` (a figure-level function with similar flexibility) or `histplot` (an axes-level function for histograms).\n",
      "  warnings.warn(msg, FutureWarning)\n"
     ]
    },
    {
     "data": {
      "text/plain": [
       "<matplotlib.legend.Legend at 0x21eb31d6c40>"
      ]
     },
     "execution_count": 69,
     "metadata": {},
     "output_type": "execute_result"
    },
    {
     "data": {
      "image/png": "[encoded data removed]",
      "text/plain": [
       "<Figure size 432x288 with 1 Axes>"
      ]
     },
     "metadata": {
      "needs_background": "light"
     },
     "output_type": "display_data"
    }
   ],
   "source": [
    "f18_34 = df[(df['gender'] == 'F') & (df['age_group'] == '18 - 34')]\n",
    "f18_34.name = 'Women18-34'\n",
    "f35p = df[(df['gender'] == 'F') & (df['age_group'] != '18 - 34')]\n",
    "f35p.name = 'Women35p'\n",
    "m18_34 = df[(df['gender'] == 'M') & (df['age_group'] == '18 - 34')]\n",
    "m18_34.name = 'Men18-34'\n",
    "m35_54 = df[(df['gender'] == 'M') & (df['age_group'] == '35 - 54')]\n",
    "m35_54.name = 'Men35-54'\n",
    "m55p = df[(df['gender'] == 'M') & (df['age_group'] == '55 +')]\n",
    "m55p.name = 'Men55p'\n",
    "plt.figure()\n",
    "for dfr in (f18_34, f35p, m18_34, m35_54, m55p):\n",
    "    sns.distplot(dfr['speed (km/h)'], label=dfr.name)\n",
    "plt.legend()"
   ]
  },
  {
   "cell_type": "code",
   "execution_count": 70,
   "id": "87f07d72",
   "metadata": {},
   "outputs": [
    {
     "data": {
      "text/plain": [
       "month\n",
       "July         11.082179\n",
       "August       11.086895\n",
       "June         11.094499\n",
       "May          11.119275\n",
       "December     11.131422\n",
       "January      11.142993\n",
       "September    11.145545\n",
       "April        11.189932\n",
       "October      11.196572\n",
       "February     11.227731\n",
       "November     11.249840\n",
       "March        11.292667\n",
       "Name: speed (km/h), dtype: float64"
      ]
     },
     "execution_count": 70,
     "metadata": {},
     "output_type": "execute_result"
    }
   ],
   "source": [
    "normal_speed_per_month = df.groupby(by='month').mean()\n",
    "normal_speed_per_month['speed (km/h)'].sort_values(ascending=True)\n",
    "# We can see that the performances are diminished at the beginning of summer and also slightly at the beginning of winter.\n",
    "# So, when we will do the preprocessing, each month will be replace by a number that will indicate\n",
    "# if the climate is more or less favorable to the performance of the athlete."
   ]
  },
  {
   "cell_type": "code",
   "execution_count": 71,
   "id": "8a8029b7",
   "metadata": {},
   "outputs": [
    {
     "data": {
      "text/plain": [
       "<matplotlib.collections.PathCollection at 0x21eb32fdb80>"
      ]
     },
     "execution_count": 71,
     "metadata": {},
     "output_type": "execute_result"
    },
    {
     "data": {
      "image/png": "[encoded data removed]",
      "text/plain": [
       "<Figure size 1440x720 with 2 Axes>"
      ]
     },
     "metadata": {
      "needs_background": "light"
     },
     "output_type": "display_data"
    }
   ],
   "source": [
    "plt.figure(figsize=(20,10))\n",
    "plt.subplot(1,2,1)\n",
    "plt.scatter(df['distance'], df['duration'])\n",
    "plt.subplot(1,2,2)\n",
    "plt.scatter(df['distance'], df['speed (km/h)'])\n",
    "# We see that it's very difficult to find a coherent correlation between the distance and the speed (not enough athletes that run \n",
    "# small distances with a higher speed, and athletes that make longer distance are not slower than all others...)\n",
    "# In contrast, the duration is completely correlated to the distance, and the gap between the shortest time and the longenst\n",
    "# time increases linearly with the distance\n",
    "# --> The best choice to elaborate our model should be to define:\n",
    "# * duration as the target variable,''\n",
    "# * distance, gender, age_group, month and level as the features variables,\n",
    "# and do polynomial featuring to have the possibility to study the variation of the duration with the distance multiplied\n",
    "# by the 4 other features.\n",
    "# Normally, the 5 best parameters will be (distance, distance*gender, distance*month, distance*age_group and distance*level)\n",
    "# We will drop the column 'athlete' after estimate by feature engeneering their levels, and we will also drop the column\n",
    "# speed (it has been calculated with duration which is the target variable, and keep it in the model will prevent us from\n",
    "# seeing how the other variables influence duration)"
   ]
  },
  {
   "cell_type": "code",
   "execution_count": 72,
   "id": "1a35666e",
   "metadata": {},
   "outputs": [],
   "source": [
    "# 2. PREPROCESSING PHASE"
   ]
  },
  {
   "cell_type": "code",
   "execution_count": 73,
   "id": "6111293b",
   "metadata": {},
   "outputs": [
    {
     "data": {
      "text/plain": [
       "gender  age_group\n",
       "F       18 - 34       18\n",
       "        35 - 54       29\n",
       "        55 +           3\n",
       "M       18 - 34       62\n",
       "        35 - 54      154\n",
       "        55 +          22\n",
       "Name: athlete, dtype: int64"
      ]
     },
     "execution_count": 73,
     "metadata": {},
     "output_type": "execute_result"
    }
   ],
   "source": [
    "# Before arriving at this cell, we were at the data exploration phase but as we are now at the preprocessing phase, \n",
    "# So we will redefine the dataframe with the modifications made before to give us the possibility of skipping the previous \n",
    "# cells at case where we are provided with data on other athletes, and we want to start directly with the preprocessing\n",
    "df = data.copy()\n",
    "df = df.drop(df[df['duration']==0].index, axis=0)\n",
    "df = df.drop(['datetime', 'year', 'distance_2019', 'distance_2020', 'country'], axis=1)\n",
    "df['speed (km/h)']=df['distance']*60/df['duration']\n",
    "df = df.drop(df[df['speed (km/h)']<=7].index, axis=0)\n",
    "f18_34 = df[(df['gender'] == 'F') & (df['age_group'] == '18 - 34')]\n",
    "f35p = df[(df['gender'] == 'F') & (df['age_group'] != '18 - 34')]\n",
    "m18_34 = df[(df['gender'] == 'M') & (df['age_group'] == '18 - 34')]\n",
    "m35_54 = df[(df['gender'] == 'M') & (df['age_group'] == '35 - 54')]\n",
    "m55p = df[(df['gender'] == 'M') & (df['age_group'] == '55 +')]\n",
    "number_athletes_per_gender_and_age = df.groupby(['gender','age_group']).nunique()\n",
    "number_athletes_per_gender_and_age['athlete']\n",
    "# If we begin with preprocessing with a new input, it can be interesting to see the number of athlets for each group (gender, \n",
    "# age). In this way, we can see if, for example, we must keep in the same group women aged 35-54 and women 55+, or assemble\n",
    "# other groups."
   ]
  },
  {
   "cell_type": "code",
   "execution_count": 74,
   "id": "89b59ba9",
   "metadata": {},
   "outputs": [
    {
     "data": {
      "text/html": [
       "<div>\n",
       "<style scoped>\n",
       "    .dataframe tbody tr th:only-of-type {\n",
       "        vertical-align: middle;\n",
       "    }\n",
       "\n",
       "    .dataframe tbody tr th {\n",
       "        vertical-align: top;\n",
       "    }\n",
       "\n",
       "    .dataframe thead th {\n",
       "        text-align: right;\n",
       "    }\n",
       "</style>\n",
       "<table border=\"1\" class=\"dataframe\">\n",
       "  <thead>\n",
       "    <tr style=\"text-align: right;\">\n",
       "      <th></th>\n",
       "      <th>athlete</th>\n",
       "      <th>distance</th>\n",
       "      <th>duration</th>\n",
       "      <th>gender</th>\n",
       "      <th>age_group</th>\n",
       "      <th>month</th>\n",
       "      <th>speed (km/h)</th>\n",
       "    </tr>\n",
       "  </thead>\n",
       "  <tbody>\n",
       "    <tr>\n",
       "      <th>21</th>\n",
       "      <td>0</td>\n",
       "      <td>4.63</td>\n",
       "      <td>28.083333</td>\n",
       "      <td>0.0</td>\n",
       "      <td>2.0</td>\n",
       "      <td>May</td>\n",
       "      <td>9.891988</td>\n",
       "    </tr>\n",
       "    <tr>\n",
       "      <th>22</th>\n",
       "      <td>0</td>\n",
       "      <td>4.83</td>\n",
       "      <td>35.350000</td>\n",
       "      <td>0.0</td>\n",
       "      <td>2.0</td>\n",
       "      <td>June</td>\n",
       "      <td>8.198020</td>\n",
       "    </tr>\n",
       "    <tr>\n",
       "      <th>23</th>\n",
       "      <td>0</td>\n",
       "      <td>10.19</td>\n",
       "      <td>61.933333</td>\n",
       "      <td>0.0</td>\n",
       "      <td>2.0</td>\n",
       "      <td>June</td>\n",
       "      <td>9.871905</td>\n",
       "    </tr>\n",
       "    <tr>\n",
       "      <th>24</th>\n",
       "      <td>0</td>\n",
       "      <td>29.32</td>\n",
       "      <td>178.983333</td>\n",
       "      <td>0.0</td>\n",
       "      <td>2.0</td>\n",
       "      <td>June</td>\n",
       "      <td>9.828848</td>\n",
       "    </tr>\n",
       "    <tr>\n",
       "      <th>25</th>\n",
       "      <td>0</td>\n",
       "      <td>20.16</td>\n",
       "      <td>128.750000</td>\n",
       "      <td>0.0</td>\n",
       "      <td>2.0</td>\n",
       "      <td>June</td>\n",
       "      <td>9.394951</td>\n",
       "    </tr>\n",
       "  </tbody>\n",
       "</table>\n",
       "</div>"
      ],
      "text/plain": [
       "    athlete  distance    duration  gender  age_group month  speed (km/h)\n",
       "21        0      4.63   28.083333     0.0        2.0   May      9.891988\n",
       "22        0      4.83   35.350000     0.0        2.0  June      8.198020\n",
       "23        0     10.19   61.933333     0.0        2.0  June      9.871905\n",
       "24        0     29.32  178.983333     0.0        2.0  June      9.828848\n",
       "25        0     20.16  128.750000     0.0        2.0  June      9.394951"
      ]
     },
     "execution_count": 74,
     "metadata": {},
     "output_type": "execute_result"
    }
   ],
   "source": [
    "from sklearn.preprocessing import OrdinalEncoder\n",
    "encoder2 = OrdinalEncoder(categories=[['F','M'],['55 +','35 - 54','18 - 34']])\n",
    "df[['gender','age_group']] = encoder2.fit_transform(df[['gender','age_group']])\n",
    "df.head()"
   ]
  },
  {
   "cell_type": "code",
   "execution_count": 75,
   "id": "3a9a4346",
   "metadata": {},
   "outputs": [
    {
     "data": {
      "text/html": [
       "<div>\n",
       "<style scoped>\n",
       "    .dataframe tbody tr th:only-of-type {\n",
       "        vertical-align: middle;\n",
       "    }\n",
       "\n",
       "    .dataframe tbody tr th {\n",
       "        vertical-align: top;\n",
       "    }\n",
       "\n",
       "    .dataframe thead th {\n",
       "        text-align: right;\n",
       "    }\n",
       "</style>\n",
       "<table border=\"1\" class=\"dataframe\">\n",
       "  <thead>\n",
       "    <tr style=\"text-align: right;\">\n",
       "      <th></th>\n",
       "      <th>athlete</th>\n",
       "      <th>distance</th>\n",
       "      <th>duration</th>\n",
       "      <th>gender</th>\n",
       "      <th>age_group</th>\n",
       "      <th>month</th>\n",
       "      <th>speed (km/h)</th>\n",
       "    </tr>\n",
       "  </thead>\n",
       "  <tbody>\n",
       "    <tr>\n",
       "      <th>21</th>\n",
       "      <td>0</td>\n",
       "      <td>4.63</td>\n",
       "      <td>28.083333</td>\n",
       "      <td>0.0</td>\n",
       "      <td>2.0</td>\n",
       "      <td>0.0</td>\n",
       "      <td>9.891988</td>\n",
       "    </tr>\n",
       "    <tr>\n",
       "      <th>22</th>\n",
       "      <td>0</td>\n",
       "      <td>4.83</td>\n",
       "      <td>35.350000</td>\n",
       "      <td>0.0</td>\n",
       "      <td>2.0</td>\n",
       "      <td>0.0</td>\n",
       "      <td>8.198020</td>\n",
       "    </tr>\n",
       "    <tr>\n",
       "      <th>23</th>\n",
       "      <td>0</td>\n",
       "      <td>10.19</td>\n",
       "      <td>61.933333</td>\n",
       "      <td>0.0</td>\n",
       "      <td>2.0</td>\n",
       "      <td>0.0</td>\n",
       "      <td>9.871905</td>\n",
       "    </tr>\n",
       "    <tr>\n",
       "      <th>24</th>\n",
       "      <td>0</td>\n",
       "      <td>29.32</td>\n",
       "      <td>178.983333</td>\n",
       "      <td>0.0</td>\n",
       "      <td>2.0</td>\n",
       "      <td>0.0</td>\n",
       "      <td>9.828848</td>\n",
       "    </tr>\n",
       "    <tr>\n",
       "      <th>25</th>\n",
       "      <td>0</td>\n",
       "      <td>20.16</td>\n",
       "      <td>128.750000</td>\n",
       "      <td>0.0</td>\n",
       "      <td>2.0</td>\n",
       "      <td>0.0</td>\n",
       "      <td>9.394951</td>\n",
       "    </tr>\n",
       "  </tbody>\n",
       "</table>\n",
       "</div>"
      ],
      "text/plain": [
       "    athlete  distance    duration  gender  age_group  month  speed (km/h)\n",
       "21        0      4.63   28.083333     0.0        2.0    0.0      9.891988\n",
       "22        0      4.83   35.350000     0.0        2.0    0.0      8.198020\n",
       "23        0     10.19   61.933333     0.0        2.0    0.0      9.871905\n",
       "24        0     29.32  178.983333     0.0        2.0    0.0      9.828848\n",
       "25        0     20.16  128.750000     0.0        2.0    0.0      9.394951"
      ]
     },
     "execution_count": 75,
     "metadata": {},
     "output_type": "execute_result"
    }
   ],
   "source": [
    "def categorize(month):\n",
    "    if(month in ['May','June','July','August']):\n",
    "        return 0.0\n",
    "    elif(month in ['April','September','December','January']):\n",
    "        return 1.0\n",
    "    else:\n",
    "        return 2.0\n",
    "df['month'] = df['month'].map(categorize)\n",
    "df.loc[(df['gender'] == 0.0) & (df['age_group'] == 0.0),'age_group'] = 1.0\n",
    "df.head()"
   ]
  },
  {
   "cell_type": "code",
   "execution_count": 76,
   "id": "badd8c80",
   "metadata": {},
   "outputs": [
    {
     "data": {
      "text/html": [
       "<div>\n",
       "<style scoped>\n",
       "    .dataframe tbody tr th:only-of-type {\n",
       "        vertical-align: middle;\n",
       "    }\n",
       "\n",
       "    .dataframe tbody tr th {\n",
       "        vertical-align: top;\n",
       "    }\n",
       "\n",
       "    .dataframe thead th {\n",
       "        text-align: right;\n",
       "    }\n",
       "</style>\n",
       "<table border=\"1\" class=\"dataframe\">\n",
       "  <thead>\n",
       "    <tr style=\"text-align: right;\">\n",
       "      <th></th>\n",
       "      <th>athlete</th>\n",
       "      <th>distance</th>\n",
       "      <th>duration</th>\n",
       "      <th>gender</th>\n",
       "      <th>age_group</th>\n",
       "      <th>month</th>\n",
       "      <th>speed (km/h)</th>\n",
       "      <th>level</th>\n",
       "    </tr>\n",
       "  </thead>\n",
       "  <tbody>\n",
       "    <tr>\n",
       "      <th>0</th>\n",
       "      <td>0</td>\n",
       "      <td>4.63</td>\n",
       "      <td>28.083333</td>\n",
       "      <td>0.0</td>\n",
       "      <td>2.0</td>\n",
       "      <td>0.0</td>\n",
       "      <td>9.891988</td>\n",
       "      <td>0.5</td>\n",
       "    </tr>\n",
       "    <tr>\n",
       "      <th>1</th>\n",
       "      <td>0</td>\n",
       "      <td>4.83</td>\n",
       "      <td>35.350000</td>\n",
       "      <td>0.0</td>\n",
       "      <td>2.0</td>\n",
       "      <td>0.0</td>\n",
       "      <td>8.198020</td>\n",
       "      <td>0.5</td>\n",
       "    </tr>\n",
       "    <tr>\n",
       "      <th>2</th>\n",
       "      <td>0</td>\n",
       "      <td>10.19</td>\n",
       "      <td>61.933333</td>\n",
       "      <td>0.0</td>\n",
       "      <td>2.0</td>\n",
       "      <td>0.0</td>\n",
       "      <td>9.871905</td>\n",
       "      <td>0.5</td>\n",
       "    </tr>\n",
       "    <tr>\n",
       "      <th>3</th>\n",
       "      <td>0</td>\n",
       "      <td>29.32</td>\n",
       "      <td>178.983333</td>\n",
       "      <td>0.0</td>\n",
       "      <td>2.0</td>\n",
       "      <td>0.0</td>\n",
       "      <td>9.828848</td>\n",
       "      <td>0.5</td>\n",
       "    </tr>\n",
       "    <tr>\n",
       "      <th>4</th>\n",
       "      <td>0</td>\n",
       "      <td>20.16</td>\n",
       "      <td>128.750000</td>\n",
       "      <td>0.0</td>\n",
       "      <td>2.0</td>\n",
       "      <td>0.0</td>\n",
       "      <td>9.394951</td>\n",
       "      <td>0.5</td>\n",
       "    </tr>\n",
       "  </tbody>\n",
       "</table>\n",
       "</div>"
      ],
      "text/plain": [
       "  athlete  distance    duration  gender  age_group  month  speed (km/h)  level\n",
       "0       0      4.63   28.083333     0.0        2.0    0.0      9.891988    0.5\n",
       "1       0      4.83   35.350000     0.0        2.0    0.0      8.198020    0.5\n",
       "2       0     10.19   61.933333     0.0        2.0    0.0      9.871905    0.5\n",
       "3       0     29.32  178.983333     0.0        2.0    0.0      9.828848    0.5\n",
       "4       0     20.16  128.750000     0.0        2.0    0.0      9.394951    0.5"
      ]
     },
     "execution_count": 76,
     "metadata": {},
     "output_type": "execute_result"
    }
   ],
   "source": [
    "# Feature engeneering: creation of variable level.\n",
    "level_by_ath = pd.DataFrame(columns=['athlete','level'])\n",
    "def find_levels(dfr,*cats):\n",
    "    for cat in cats:\n",
    "        speed_by_athlete = cat.groupby(['athlete'], as_index=False).mean('speed (km/h)')\n",
    "        speed_by_athlete['level'] = speed_by_athlete['speed (km/h)'].rank(pct=True)\n",
    "        speed_by_athlete.drop(['distance', 'duration', 'speed (km/h)'], axis=1, inplace = True)\n",
    "        dfr = pd.concat([dfr, speed_by_athlete], ignore_index = True)\n",
    "    return dfr\n",
    "level_by_ath = find_levels(level_by_ath,f18_34,f35p,m18_34,m35_54,m55p)\n",
    "df = pd.merge(df,level_by_ath,on='athlete')\n",
    "df.head()"
   ]
  },
  {
   "cell_type": "code",
   "execution_count": 77,
   "id": "396acb57",
   "metadata": {},
   "outputs": [
    {
     "data": {
      "text/html": [
       "<div>\n",
       "<style scoped>\n",
       "    .dataframe tbody tr th:only-of-type {\n",
       "        vertical-align: middle;\n",
       "    }\n",
       "\n",
       "    .dataframe tbody tr th {\n",
       "        vertical-align: top;\n",
       "    }\n",
       "\n",
       "    .dataframe thead th {\n",
       "        text-align: right;\n",
       "    }\n",
       "</style>\n",
       "<table border=\"1\" class=\"dataframe\">\n",
       "  <thead>\n",
       "    <tr style=\"text-align: right;\">\n",
       "      <th></th>\n",
       "      <th>distance</th>\n",
       "      <th>duration</th>\n",
       "      <th>gender</th>\n",
       "      <th>age_group</th>\n",
       "      <th>month</th>\n",
       "      <th>level</th>\n",
       "    </tr>\n",
       "  </thead>\n",
       "  <tbody>\n",
       "    <tr>\n",
       "      <th>0</th>\n",
       "      <td>4.63</td>\n",
       "      <td>28.083333</td>\n",
       "      <td>0.0</td>\n",
       "      <td>2.0</td>\n",
       "      <td>0.0</td>\n",
       "      <td>0.5</td>\n",
       "    </tr>\n",
       "    <tr>\n",
       "      <th>1</th>\n",
       "      <td>4.83</td>\n",
       "      <td>35.350000</td>\n",
       "      <td>0.0</td>\n",
       "      <td>2.0</td>\n",
       "      <td>0.0</td>\n",
       "      <td>0.5</td>\n",
       "    </tr>\n",
       "    <tr>\n",
       "      <th>2</th>\n",
       "      <td>10.19</td>\n",
       "      <td>61.933333</td>\n",
       "      <td>0.0</td>\n",
       "      <td>2.0</td>\n",
       "      <td>0.0</td>\n",
       "      <td>0.5</td>\n",
       "    </tr>\n",
       "    <tr>\n",
       "      <th>3</th>\n",
       "      <td>29.32</td>\n",
       "      <td>178.983333</td>\n",
       "      <td>0.0</td>\n",
       "      <td>2.0</td>\n",
       "      <td>0.0</td>\n",
       "      <td>0.5</td>\n",
       "    </tr>\n",
       "    <tr>\n",
       "      <th>4</th>\n",
       "      <td>20.16</td>\n",
       "      <td>128.750000</td>\n",
       "      <td>0.0</td>\n",
       "      <td>2.0</td>\n",
       "      <td>0.0</td>\n",
       "      <td>0.5</td>\n",
       "    </tr>\n",
       "  </tbody>\n",
       "</table>\n",
       "</div>"
      ],
      "text/plain": [
       "   distance    duration  gender  age_group  month  level\n",
       "0      4.63   28.083333     0.0        2.0    0.0    0.5\n",
       "1      4.83   35.350000     0.0        2.0    0.0    0.5\n",
       "2     10.19   61.933333     0.0        2.0    0.0    0.5\n",
       "3     29.32  178.983333     0.0        2.0    0.0    0.5\n",
       "4     20.16  128.750000     0.0        2.0    0.0    0.5"
      ]
     },
     "execution_count": 77,
     "metadata": {},
     "output_type": "execute_result"
    }
   ],
   "source": [
    "df = df.drop(['athlete', 'speed (km/h)'], axis=1)\n",
    "df.head()"
   ]
  },
  {
   "cell_type": "code",
   "execution_count": 78,
   "id": "e45c3415",
   "metadata": {},
   "outputs": [],
   "source": [
    "X = df.drop('duration', axis=1)\n",
    "y = df['duration']"
   ]
  },
  {
   "cell_type": "code",
   "execution_count": 79,
   "id": "1add7e25",
   "metadata": {},
   "outputs": [
    {
     "data": {
      "text/plain": [
       "['1',\n",
       " 'distance',\n",
       " 'gender',\n",
       " 'age_group',\n",
       " 'month',\n",
       " 'level',\n",
       " 'distance^2',\n",
       " 'distance gender',\n",
       " 'distance age_group',\n",
       " 'distance month',\n",
       " 'distance level',\n",
       " 'gender^2',\n",
       " 'gender age_group',\n",
       " 'gender month',\n",
       " 'gender level',\n",
       " 'age_group^2',\n",
       " 'age_group month',\n",
       " 'age_group level',\n",
       " 'month^2',\n",
       " 'month level',\n",
       " 'level^2']"
      ]
     },
     "execution_count": 79,
     "metadata": {},
     "output_type": "execute_result"
    }
   ],
   "source": [
    "from sklearn.preprocessing import PolynomialFeatures\n",
    "poly = PolynomialFeatures(2)\n",
    "X_poly = poly.fit_transform(X)\n",
    "poly.get_feature_names(['distance','gender','age_group','month','level'])"
   ]
  },
  {
   "cell_type": "code",
   "execution_count": 80,
   "id": "11177741",
   "metadata": {},
   "outputs": [
    {
     "data": {
      "text/plain": [
       "array([ 1.    ,  4.63  ,  0.    ,  2.    ,  0.    ,  0.5   , 21.4369,\n",
       "        0.    ,  9.26  ,  0.    ,  2.315 ,  0.    ,  0.    ,  0.    ,\n",
       "        0.    ,  4.    ,  0.    ,  1.    ,  0.    ,  0.    ,  0.25  ])"
      ]
     },
     "execution_count": 80,
     "metadata": {},
     "output_type": "execute_result"
    }
   ],
   "source": [
    "X_poly[0]"
   ]
  },
  {
   "cell_type": "code",
   "execution_count": 81,
   "id": "6dc948c4",
   "metadata": {},
   "outputs": [
    {
     "data": {
      "text/html": [
       "<div>\n",
       "<style scoped>\n",
       "    .dataframe tbody tr th:only-of-type {\n",
       "        vertical-align: middle;\n",
       "    }\n",
       "\n",
       "    .dataframe tbody tr th {\n",
       "        vertical-align: top;\n",
       "    }\n",
       "\n",
       "    .dataframe thead th {\n",
       "        text-align: right;\n",
       "    }\n",
       "</style>\n",
       "<table border=\"1\" class=\"dataframe\">\n",
       "  <thead>\n",
       "    <tr style=\"text-align: right;\">\n",
       "      <th></th>\n",
       "      <th>1</th>\n",
       "      <th>distance</th>\n",
       "      <th>gender</th>\n",
       "      <th>age_group</th>\n",
       "      <th>month</th>\n",
       "      <th>level</th>\n",
       "      <th>distance^2</th>\n",
       "      <th>distance gender</th>\n",
       "      <th>distance age_group</th>\n",
       "      <th>distance month</th>\n",
       "      <th>...</th>\n",
       "      <th>gender^2</th>\n",
       "      <th>gender age_group</th>\n",
       "      <th>gender month</th>\n",
       "      <th>gender level</th>\n",
       "      <th>age_group^2</th>\n",
       "      <th>age_group month</th>\n",
       "      <th>age_group level</th>\n",
       "      <th>month^2</th>\n",
       "      <th>month level</th>\n",
       "      <th>level^2</th>\n",
       "    </tr>\n",
       "  </thead>\n",
       "  <tbody>\n",
       "    <tr>\n",
       "      <th>0</th>\n",
       "      <td>1.0</td>\n",
       "      <td>4.63</td>\n",
       "      <td>0.0</td>\n",
       "      <td>2.0</td>\n",
       "      <td>0.0</td>\n",
       "      <td>0.5</td>\n",
       "      <td>21.4369</td>\n",
       "      <td>0.0</td>\n",
       "      <td>9.26</td>\n",
       "      <td>0.0</td>\n",
       "      <td>...</td>\n",
       "      <td>0.0</td>\n",
       "      <td>0.0</td>\n",
       "      <td>0.0</td>\n",
       "      <td>0.0</td>\n",
       "      <td>4.0</td>\n",
       "      <td>0.0</td>\n",
       "      <td>1.0</td>\n",
       "      <td>0.0</td>\n",
       "      <td>0.0</td>\n",
       "      <td>0.25</td>\n",
       "    </tr>\n",
       "    <tr>\n",
       "      <th>1</th>\n",
       "      <td>1.0</td>\n",
       "      <td>4.83</td>\n",
       "      <td>0.0</td>\n",
       "      <td>2.0</td>\n",
       "      <td>0.0</td>\n",
       "      <td>0.5</td>\n",
       "      <td>23.3289</td>\n",
       "      <td>0.0</td>\n",
       "      <td>9.66</td>\n",
       "      <td>0.0</td>\n",
       "      <td>...</td>\n",
       "      <td>0.0</td>\n",
       "      <td>0.0</td>\n",
       "      <td>0.0</td>\n",
       "      <td>0.0</td>\n",
       "      <td>4.0</td>\n",
       "      <td>0.0</td>\n",
       "      <td>1.0</td>\n",
       "      <td>0.0</td>\n",
       "      <td>0.0</td>\n",
       "      <td>0.25</td>\n",
       "    </tr>\n",
       "    <tr>\n",
       "      <th>2</th>\n",
       "      <td>1.0</td>\n",
       "      <td>10.19</td>\n",
       "      <td>0.0</td>\n",
       "      <td>2.0</td>\n",
       "      <td>0.0</td>\n",
       "      <td>0.5</td>\n",
       "      <td>103.8361</td>\n",
       "      <td>0.0</td>\n",
       "      <td>20.38</td>\n",
       "      <td>0.0</td>\n",
       "      <td>...</td>\n",
       "      <td>0.0</td>\n",
       "      <td>0.0</td>\n",
       "      <td>0.0</td>\n",
       "      <td>0.0</td>\n",
       "      <td>4.0</td>\n",
       "      <td>0.0</td>\n",
       "      <td>1.0</td>\n",
       "      <td>0.0</td>\n",
       "      <td>0.0</td>\n",
       "      <td>0.25</td>\n",
       "    </tr>\n",
       "    <tr>\n",
       "      <th>3</th>\n",
       "      <td>1.0</td>\n",
       "      <td>29.32</td>\n",
       "      <td>0.0</td>\n",
       "      <td>2.0</td>\n",
       "      <td>0.0</td>\n",
       "      <td>0.5</td>\n",
       "      <td>859.6624</td>\n",
       "      <td>0.0</td>\n",
       "      <td>58.64</td>\n",
       "      <td>0.0</td>\n",
       "      <td>...</td>\n",
       "      <td>0.0</td>\n",
       "      <td>0.0</td>\n",
       "      <td>0.0</td>\n",
       "      <td>0.0</td>\n",
       "      <td>4.0</td>\n",
       "      <td>0.0</td>\n",
       "      <td>1.0</td>\n",
       "      <td>0.0</td>\n",
       "      <td>0.0</td>\n",
       "      <td>0.25</td>\n",
       "    </tr>\n",
       "    <tr>\n",
       "      <th>4</th>\n",
       "      <td>1.0</td>\n",
       "      <td>20.16</td>\n",
       "      <td>0.0</td>\n",
       "      <td>2.0</td>\n",
       "      <td>0.0</td>\n",
       "      <td>0.5</td>\n",
       "      <td>406.4256</td>\n",
       "      <td>0.0</td>\n",
       "      <td>40.32</td>\n",
       "      <td>0.0</td>\n",
       "      <td>...</td>\n",
       "      <td>0.0</td>\n",
       "      <td>0.0</td>\n",
       "      <td>0.0</td>\n",
       "      <td>0.0</td>\n",
       "      <td>4.0</td>\n",
       "      <td>0.0</td>\n",
       "      <td>1.0</td>\n",
       "      <td>0.0</td>\n",
       "      <td>0.0</td>\n",
       "      <td>0.25</td>\n",
       "    </tr>\n",
       "  </tbody>\n",
       "</table>\n",
       "<p>5 rows × 21 columns</p>\n",
       "</div>"
      ],
      "text/plain": [
       "     1  distance  gender  age_group  month  level  distance^2  \\\n",
       "0  1.0      4.63     0.0        2.0    0.0    0.5     21.4369   \n",
       "1  1.0      4.83     0.0        2.0    0.0    0.5     23.3289   \n",
       "2  1.0     10.19     0.0        2.0    0.0    0.5    103.8361   \n",
       "3  1.0     29.32     0.0        2.0    0.0    0.5    859.6624   \n",
       "4  1.0     20.16     0.0        2.0    0.0    0.5    406.4256   \n",
       "\n",
       "   distance gender  distance age_group  distance month  ...  gender^2  \\\n",
       "0              0.0                9.26             0.0  ...       0.0   \n",
       "1              0.0                9.66             0.0  ...       0.0   \n",
       "2              0.0               20.38             0.0  ...       0.0   \n",
       "3              0.0               58.64             0.0  ...       0.0   \n",
       "4              0.0               40.32             0.0  ...       0.0   \n",
       "\n",
       "   gender age_group  gender month  gender level  age_group^2  age_group month  \\\n",
       "0               0.0           0.0           0.0          4.0              0.0   \n",
       "1               0.0           0.0           0.0          4.0              0.0   \n",
       "2               0.0           0.0           0.0          4.0              0.0   \n",
       "3               0.0           0.0           0.0          4.0              0.0   \n",
       "4               0.0           0.0           0.0          4.0              0.0   \n",
       "\n",
       "   age_group level  month^2  month level  level^2  \n",
       "0              1.0      0.0          0.0     0.25  \n",
       "1              1.0      0.0          0.0     0.25  \n",
       "2              1.0      0.0          0.0     0.25  \n",
       "3              1.0      0.0          0.0     0.25  \n",
       "4              1.0      0.0          0.0     0.25  \n",
       "\n",
       "[5 rows x 21 columns]"
      ]
     },
     "execution_count": 81,
     "metadata": {},
     "output_type": "execute_result"
    }
   ],
   "source": [
    "df2 = pd.DataFrame(X_poly, columns=poly.get_feature_names(['distance','gender','age_group','month','level']))\n",
    "df2.head()"
   ]
  },
  {
   "cell_type": "code",
   "execution_count": 82,
   "id": "eb09b69c",
   "metadata": {},
   "outputs": [
    {
     "name": "stdout",
     "output_type": "stream",
     "text": [
      "[False  True False False False False  True  True  True  True  True False\n",
      " False False False False False False False False False]\n"
     ]
    },
    {
     "name": "stderr",
     "output_type": "stream",
     "text": [
      "C:\\Users\\u515192\\Anaconda3\\lib\\site-packages\\sklearn\\feature_selection\\_univariate_selection.py:114: UserWarning: Features [0] are constant.\n",
      "  warnings.warn(\"Features %s are constant.\" % constant_features_idx,\n",
      "C:\\Users\\u515192\\Anaconda3\\lib\\site-packages\\sklearn\\feature_selection\\_univariate_selection.py:116: RuntimeWarning: invalid value encountered in true_divide\n",
      "  f = msb / msw\n"
     ]
    }
   ],
   "source": [
    "from sklearn.feature_selection import SelectKBest, f_classif\n",
    "selector = SelectKBest(f_classif, k=6)\n",
    "X_feat = selector.fit_transform(df2,y)\n",
    "print(selector.get_support())\n",
    "# We can see that the 6 main features are the 2nd one (distance) and the 7-->11th ones (distance², distance*gender,\n",
    "# distance*age_group, distance*month and distance*level)"
   ]
  },
  {
   "cell_type": "code",
   "execution_count": 83,
   "id": "ad9b38f8",
   "metadata": {},
   "outputs": [
    {
     "data": {
      "text/html": [
       "<div>\n",
       "<style scoped>\n",
       "    .dataframe tbody tr th:only-of-type {\n",
       "        vertical-align: middle;\n",
       "    }\n",
       "\n",
       "    .dataframe tbody tr th {\n",
       "        vertical-align: top;\n",
       "    }\n",
       "\n",
       "    .dataframe thead th {\n",
       "        text-align: right;\n",
       "    }\n",
       "</style>\n",
       "<table border=\"1\" class=\"dataframe\">\n",
       "  <thead>\n",
       "    <tr style=\"text-align: right;\">\n",
       "      <th></th>\n",
       "      <th>distance</th>\n",
       "      <th>distance^2</th>\n",
       "      <th>distance gender</th>\n",
       "      <th>distance age_group</th>\n",
       "      <th>distance month</th>\n",
       "      <th>distance level</th>\n",
       "    </tr>\n",
       "  </thead>\n",
       "  <tbody>\n",
       "    <tr>\n",
       "      <th>0</th>\n",
       "      <td>4.63</td>\n",
       "      <td>21.4369</td>\n",
       "      <td>0.0</td>\n",
       "      <td>9.26</td>\n",
       "      <td>0.0</td>\n",
       "      <td>2.315</td>\n",
       "    </tr>\n",
       "    <tr>\n",
       "      <th>1</th>\n",
       "      <td>4.83</td>\n",
       "      <td>23.3289</td>\n",
       "      <td>0.0</td>\n",
       "      <td>9.66</td>\n",
       "      <td>0.0</td>\n",
       "      <td>2.415</td>\n",
       "    </tr>\n",
       "    <tr>\n",
       "      <th>2</th>\n",
       "      <td>10.19</td>\n",
       "      <td>103.8361</td>\n",
       "      <td>0.0</td>\n",
       "      <td>20.38</td>\n",
       "      <td>0.0</td>\n",
       "      <td>5.095</td>\n",
       "    </tr>\n",
       "    <tr>\n",
       "      <th>3</th>\n",
       "      <td>29.32</td>\n",
       "      <td>859.6624</td>\n",
       "      <td>0.0</td>\n",
       "      <td>58.64</td>\n",
       "      <td>0.0</td>\n",
       "      <td>14.660</td>\n",
       "    </tr>\n",
       "    <tr>\n",
       "      <th>4</th>\n",
       "      <td>20.16</td>\n",
       "      <td>406.4256</td>\n",
       "      <td>0.0</td>\n",
       "      <td>40.32</td>\n",
       "      <td>0.0</td>\n",
       "      <td>10.080</td>\n",
       "    </tr>\n",
       "  </tbody>\n",
       "</table>\n",
       "</div>"
      ],
      "text/plain": [
       "   distance  distance^2  distance gender  distance age_group  distance month  \\\n",
       "0      4.63     21.4369              0.0                9.26             0.0   \n",
       "1      4.83     23.3289              0.0                9.66             0.0   \n",
       "2     10.19    103.8361              0.0               20.38             0.0   \n",
       "3     29.32    859.6624              0.0               58.64             0.0   \n",
       "4     20.16    406.4256              0.0               40.32             0.0   \n",
       "\n",
       "   distance level  \n",
       "0           2.315  \n",
       "1           2.415  \n",
       "2           5.095  \n",
       "3          14.660  \n",
       "4          10.080  "
      ]
     },
     "execution_count": 83,
     "metadata": {},
     "output_type": "execute_result"
    }
   ],
   "source": [
    "df3 = pd.DataFrame(X_feat, columns=df2.columns[selector.get_support()])\n",
    "df3.head()"
   ]
  },
  {
   "cell_type": "code",
   "execution_count": 84,
   "id": "018d577c",
   "metadata": {},
   "outputs": [
    {
     "name": "stderr",
     "output_type": "stream",
     "text": [
      "C:\\Users\\u515192\\Anaconda3\\lib\\site-packages\\seaborn\\distributions.py:2619: FutureWarning: `distplot` is a deprecated function and will be removed in a future version. Please adapt your code to use either `displot` (a figure-level function with similar flexibility) or `histplot` (an axes-level function for histograms).\n",
      "  warnings.warn(msg, FutureWarning)\n",
      "C:\\Users\\u515192\\Anaconda3\\lib\\site-packages\\seaborn\\distributions.py:2619: FutureWarning: `distplot` is a deprecated function and will be removed in a future version. Please adapt your code to use either `displot` (a figure-level function with similar flexibility) or `histplot` (an axes-level function for histograms).\n",
      "  warnings.warn(msg, FutureWarning)\n"
     ]
    },
    {
     "data": {
      "text/plain": [
       "<matplotlib.legend.Legend at 0x21eb0fe1490>"
      ]
     },
     "execution_count": 84,
     "metadata": {},
     "output_type": "execute_result"
    },
    {
     "data": {
      "image/png": "[encoded data removed]",
      "text/plain": [
       "<Figure size 432x288 with 1 Axes>"
      ]
     },
     "metadata": {
      "needs_background": "light"
     },
     "output_type": "display_data"
    }
   ],
   "source": [
    "from sklearn.model_selection import train_test_split\n",
    "X_train, X_test, y_train, y_test = train_test_split(df3, y, test_size = 0.2, random_state = 0)\n",
    "sns.distplot(y_train, label='y_train')\n",
    "sns.distplot(y_test, label='y_test')\n",
    "plt.legend()\n",
    "# print(\"Trainset:\", y_train.value_counts())\n",
    "# print(\"Testset:\", y_test.value_counts())"
   ]
  },
  {
   "cell_type": "code",
   "execution_count": 85,
   "id": "c75fca06",
   "metadata": {},
   "outputs": [
    {
     "name": "stdout",
     "output_type": "stream",
     "text": [
      "(17452,) (4363,)\n"
     ]
    }
   ],
   "source": [
    "print(y_train.shape, y_test.shape)"
   ]
  },
  {
   "cell_type": "code",
   "execution_count": 86,
   "id": "e5f56ef2",
   "metadata": {},
   "outputs": [
    {
     "name": "stdout",
     "output_type": "stream",
     "text": [
      "Our first linear regression model estimates the duration (# minutes) as [7.45574312]*dist + [0.00140192]*dist² + [-0.53420167]*dist*gender + [-0.28049261]*dist*age_group + [-0.06840349]*dist*month + [-2.25642498]*dist*level + [1.82206033]\n",
      "with gender = 0 for women, 1 for men, age_group = 0 for 55+, 1 for 35-54 and 2 for 18-34 y.o., month = 0 if the month is unfavorable, 1 if moderately favorable and 2 if favorable\n"
     ]
    }
   ],
   "source": [
    "from sklearn.linear_model import LinearRegression\n",
    "model = LinearRegression()\n",
    "model.fit(X_train,y_train)\n",
    "bias = model.predict([[0, 0, 0, 0, 0, 0]])\n",
    "coeff_dist = model.predict([[1, 0, 0, 0, 0, 0]]) - bias\n",
    "coeff_dist2 = model.predict([[0, 1, 0, 0, 0, 0]]) - bias\n",
    "coeff_gender = model.predict([[0, 0, 1, 0, 0, 0]]) - bias\n",
    "coeff_age_group = model.predict([[0, 0, 0, 1, 0, 0]]) - bias\n",
    "coeff_month = model.predict([[0, 0, 0, 0, 1, 0]]) - bias\n",
    "coeff_level = model.predict([[0, 0, 0, 0, 0, 1]]) - bias\n",
    "print('Our first linear regression model estimates the duration (# minutes) as {}*dist + {}*dist² + {}*dist*gender + {}*dist*age_group + {}*dist*month + {}*dist*level + {}'.format(coeff_dist,coeff_dist2,coeff_gender,coeff_age_group,coeff_month, coeff_level,bias))\n",
    "print('with gender = 0 for women, 1 for men, age_group = 0 for 55+, 1 for 35-54 and 2 for 18-34 y.o., month = 0 if the month is unfavorable, 1 if moderately favorable and 2 if favorable')"
   ]
  },
  {
   "cell_type": "code",
   "execution_count": 87,
   "id": "4d09cbe7",
   "metadata": {},
   "outputs": [
    {
     "name": "stdout",
     "output_type": "stream",
     "text": [
      "0.975754130074315\n"
     ]
    }
   ],
   "source": [
    "from sklearn.metrics import r2_score\n",
    "y_pred = model.predict(X_test)\n",
    "print(r2_score(y_test,y_pred))\n",
    "# We see that our model gives us a very good coefficient of determination (R² = 0.975). However, it should be very interesting\n",
    "# to see if the number of datas in the trainset is large enough and there is no overfitting. For this, we will plot the learning\n",
    "# curves of R² for "
   ]
  },
  {
   "cell_type": "code",
   "execution_count": 88,
   "id": "25a4b8da",
   "metadata": {},
   "outputs": [
    {
     "data": {
      "text/plain": [
       "<matplotlib.legend.Legend at 0x21eb1b3dbe0>"
      ]
     },
     "execution_count": 88,
     "metadata": {},
     "output_type": "execute_result"
    },
    {
     "data": {
      "image/png": "[encoded data removed]",
      "text/plain": [
       "<Figure size 864x576 with 1 Axes>"
      ]
     },
     "metadata": {
      "needs_background": "light"
     },
     "output_type": "display_data"
    }
   ],
   "source": [
    "from sklearn.model_selection import learning_curve\n",
    "N, train_score, val_score = learning_curve(model, X_train, y_train, cv=4, scoring='r2',train_sizes=np.linspace(0.001,1,999))\n",
    "plt.figure(figsize=(12,8))\n",
    "plt.plot(N, train_score.mean(axis=1), label='train score')\n",
    "plt.plot(N, val_score.mean(axis=1), label='validation score')\n",
    "plt.legend()\n",
    "# We can observe that, if we have at least 2000 datas in 75% of the trainset (cv=4 and other datas are in the validation set),\n",
    "# the validation score converge and there is no overfitting because the trainscore is similar\n",
    "# Since a dataset of 30000 datas gives us a trainset of 13000 datas, a dataset of 30000*(2000/13000) = 4615 datas (5000 to be\n",
    "# sure) would have been enough to fing the right linear regression parameters"
   ]
  },
  {
   "cell_type": "code",
   "execution_count": null,
   "id": "a7a4b6ba",
   "metadata": {},
   "outputs": [],
   "source": [
    "# 3. MODELISATION PHASE"
   ]
  },
  {
   "cell_type": "code",
   "execution_count": 99,
   "id": "edea2f43",
   "metadata": {
    "scrolled": false
   },
   "outputs": [
    {
     "name": "stdout",
     "output_type": "stream",
     "text": [
      "Linear\n",
      "0.975754130074315\n",
      "Ridge\n",
      "0.9757541308557465\n",
      "DecisionTree\n",
      "0.9561918632753055\n",
      "RandomForest\n",
      "0.9779643605140523\n",
      "AdaBoost\n",
      "0.905887370553017\n",
      "SVR\n",
      "0.8978565256302363\n",
      "KNN\n",
      "0.9504482546039636\n"
     ]
    }
   ],
   "source": [
    "# We will now create a list of models to see if there is a better model than Linear regression, and we also will create a\n",
    "# pipeline that will include the steps of preprocessing and the model:\n",
    "from sklearn.linear_model import Ridge\n",
    "from sklearn.tree import DecisionTreeRegressor\n",
    "from sklearn.ensemble import RandomForestRegressor, AdaBoostRegressor\n",
    "from sklearn.svm import SVR\n",
    "from sklearn.neighbors import KNeighborsRegressor\n",
    "from sklearn.pipeline import make_pipeline\n",
    "import warnings\n",
    "warnings.filterwarnings(\"ignore\", category=UserWarning)\n",
    "warnings.filterwarnings(\"ignore\", category=RuntimeWarning)\n",
    "preprocessor = make_pipeline(PolynomialFeatures(2), SelectKBest(f_classif, k=6))\n",
    "Linear = make_pipeline(preprocessor, LinearRegression())\n",
    "Ridge = make_pipeline(preprocessor, Ridge())\n",
    "DecisionTree = make_pipeline(preprocessor, DecisionTreeRegressor(random_state=0))\n",
    "RandomForest = make_pipeline(preprocessor, RandomForestRegressor(random_state=0))\n",
    "AdaBoost = make_pipeline(preprocessor, AdaBoostRegressor(random_state=0))\n",
    "SVR = make_pipeline(preprocessor, SVR())\n",
    "KNN = make_pipeline(preprocessor, KNeighborsRegressor())\n",
    "models_dictionnary = {'Linear':Linear, 'Ridge':Ridge, 'DecisionTree':DecisionTree, 'RandomForest':RandomForest, 'AdaBoost':AdaBoost, 'SVR':SVR, 'KNN':KNN}\n",
    "# We will redefine X_train, X_test, y_train and y_test because the model contains the entire pipeline with the preprocessing\n",
    "# defined before (that gives us the possibility to modify more easily these paramaters, and eventually add a step of\n",
    "# preprocessing, if we encountered an interest of doing feature scaling for example)\n",
    "# So we won't split df3, but X\n",
    "X_train, X_test, y_train, y_test = train_test_split(X, y, test_size = 0.2, random_state = 0)\n",
    "for name, model in models_dictionnary.items():    \n",
    "    print(name)\n",
    "    model.fit(X_train, y_train)\n",
    "    y_pred = model.predict(X_test)\n",
    "    print(r2_score(y_test,y_pred))\n",
    "    N, train_score, val_score = learning_curve(model, X_train, y_train, cv=4, scoring='r2',train_sizes=np.linspace(0.1,1,10))\n",
    "    plt.figure(figsize=(12,8))\n",
    "    plt.plot(N, train_score.mean(axis=1), label='train score')\n",
    "    plt.plot(N, val_score.mean(axis=1), label='validation score')\n",
    "    plt.legend()"
   ]
  },
  {
   "cell_type": "code",
   "execution_count": 112,
   "id": "61ac8160",
   "metadata": {},
   "outputs": [
    {
     "data": {
      "text/plain": [
       "{'memory': None,\n",
       " 'steps': [('pipeline',\n",
       "   Pipeline(steps=[('polynomialfeatures', PolynomialFeatures()),\n",
       "                   ('selectkbest', SelectKBest(k=6))])),\n",
       "  ('randomforestregressor', RandomForestRegressor(random_state=0))],\n",
       " 'verbose': False,\n",
       " 'pipeline': Pipeline(steps=[('polynomialfeatures', PolynomialFeatures()),\n",
       "                 ('selectkbest', SelectKBest(k=6))]),\n",
       " 'randomforestregressor': RandomForestRegressor(random_state=0),\n",
       " 'pipeline__memory': None,\n",
       " 'pipeline__steps': [('polynomialfeatures', PolynomialFeatures()),\n",
       "  ('selectkbest', SelectKBest(k=6))],\n",
       " 'pipeline__verbose': False,\n",
       " 'pipeline__polynomialfeatures': PolynomialFeatures(),\n",
       " 'pipeline__selectkbest': SelectKBest(k=6),\n",
       " 'pipeline__polynomialfeatures__degree': 2,\n",
       " 'pipeline__polynomialfeatures__include_bias': True,\n",
       " 'pipeline__polynomialfeatures__interaction_only': False,\n",
       " 'pipeline__polynomialfeatures__order': 'C',\n",
       " 'pipeline__selectkbest__k': 6,\n",
       " 'pipeline__selectkbest__score_func': <function sklearn.feature_selection._univariate_selection.f_classif(X, y)>,\n",
       " 'randomforestregressor__bootstrap': True,\n",
       " 'randomforestregressor__ccp_alpha': 0.0,\n",
       " 'randomforestregressor__criterion': 'mse',\n",
       " 'randomforestregressor__max_depth': None,\n",
       " 'randomforestregressor__max_features': 'auto',\n",
       " 'randomforestregressor__max_leaf_nodes': None,\n",
       " 'randomforestregressor__max_samples': None,\n",
       " 'randomforestregressor__min_impurity_decrease': 0.0,\n",
       " 'randomforestregressor__min_impurity_split': None,\n",
       " 'randomforestregressor__min_samples_leaf': 1,\n",
       " 'randomforestregressor__min_samples_split': 2,\n",
       " 'randomforestregressor__min_weight_fraction_leaf': 0.0,\n",
       " 'randomforestregressor__n_estimators': 100,\n",
       " 'randomforestregressor__n_jobs': None,\n",
       " 'randomforestregressor__oob_score': False,\n",
       " 'randomforestregressor__random_state': 0,\n",
       " 'randomforestregressor__verbose': 0,\n",
       " 'randomforestregressor__warm_start': False}"
      ]
     },
     "execution_count": 112,
     "metadata": {},
     "output_type": "execute_result"
    }
   ],
   "source": [
    "# All parameters of the pipeline RandomForest (not written in the same way than the estimator RandomForestRegressor):\n",
    "RandomForest.get_params()"
   ]
  },
  {
   "cell_type": "code",
   "execution_count": 114,
   "id": "7bcac790",
   "metadata": {
    "scrolled": false
   },
   "outputs": [
    {
     "name": "stdout",
     "output_type": "stream",
     "text": [
      "{'randomforestregressor__max_depth': None, 'randomforestregressor__min_samples_split': 3, 'randomforestregressor__n_estimators': 200}\n",
      "0.9779995191458803\n"
     ]
    }
   ],
   "source": [
    "# We can see that the 2 best models are the linear regression and the random forest regressor\n",
    "# The ridge gives the same score as the linear regression but take more time to find this same model\n",
    "# For the random forest regressor, we can try to adjust the parameters in order to improve the score by using GridSearchCV:\n",
    "from sklearn.model_selection import GridSearchCV\n",
    "tuned_parameters = {'randomforestregressor__n_estimators': [50, 100, 200], \n",
    "                    'randomforestregressor__max_depth': [None, 1, 2, 3],\n",
    "                    'randomforestregressor__min_samples_split': [1, 2, 3]}\n",
    "grid = GridSearchCV(RandomForest, tuned_parameters, scoring='r2', cv=4)\n",
    "grid.fit(X_train, y_train)\n",
    "print(grid.best_params_)\n",
    "y_pred = grid.predict(X_test)\n",
    "print(r2_score(y_test, y_pred))"
   ]
  },
  {
   "cell_type": "code",
   "execution_count": null,
   "id": "df2d967c",
   "metadata": {},
   "outputs": [],
   "source": [
    "# We have a slightly better score by using RandomForestRegression with 200 trees that have no maximal depth and stop when\n",
    "# all leaves contain less than 3 samples (or are pure), but the simulation is much faster by using Linear Regression, especially\n",
    "# by using 5000 datas instead of 30000 (we have seen on the learning curve that the score is just as good).\n",
    "# We will therefore have a choice between having a much faster or a slightly more precise model."
   ]
  }
 ],
 "metadata": {
  "kernelspec": {
   "display_name": "Python 3 (ipykernel)",
   "language": "python",
   "name": "python3"
  },
  "language_info": {
   "codemirror_mode": {
    "name": "ipython",
    "version": 3
   },
   "file_extension": ".py",
   "mimetype": "text/x-python",
   "name": "python",
   "nbconvert_exporter": "python",
   "pygments_lexer": "ipython3",
   "version": "3.9.7"
  }
 },
 "nbformat": 4,
 "nbformat_minor": 5
}
